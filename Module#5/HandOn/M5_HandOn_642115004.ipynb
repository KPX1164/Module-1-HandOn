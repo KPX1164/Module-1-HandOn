{
 "cells": [
  {
   "cell_type": "markdown",
   "metadata": {},
   "source": [
    "## Libraires"
   ]
  },
  {
   "cell_type": "code",
   "execution_count": 97,
   "metadata": {},
   "outputs": [],
   "source": [
    "import pandas as pd\n",
    "import numpy as np\n",
    "import seaborn as sns"
   ]
  },
  {
   "cell_type": "markdown",
   "metadata": {},
   "source": [
    "## (1) precision@k, recall@k -- pg23\n"
   ]
  },
  {
   "cell_type": "code",
   "execution_count": 98,
   "metadata": {},
   "outputs": [],
   "source": [
    "system_A = np.array([False] + [True] * 5 + [False] * 4)\n",
    "system_B = np.array([True] * 3 + [False] * 5 + [True] * 2)\n",
    "\n",
    "# Calculate relevant\n",
    "num_relevant_A = sum(system_A)\n",
    "num_relevant_B = sum(system_B)\n",
    "\n",
    "# Rank discount\n",
    "rank = np.array(range(1,11))"
   ]
  },
  {
   "cell_type": "code",
   "execution_count": 99,
   "metadata": {},
   "outputs": [],
   "source": [
    "precision_A = np.cumsum(system_A)/rank\n",
    "precision_B = np.cumsum(system_B)/rank"
   ]
  },
  {
   "cell_type": "code",
   "execution_count": 100,
   "metadata": {},
   "outputs": [],
   "source": [
    "recall_A = np.cumsum(system_A)/num_relevant_A\n",
    "recall_B = np.cumsum(system_B)/num_relevant_B"
   ]
  },
  {
   "cell_type": "code",
   "execution_count": 101,
   "metadata": {},
   "outputs": [],
   "source": [
    "A_df = pd.DataFrame({'precision': precision_A, 'recall': recall_A, 'method': 'A', 'rank': rank})\n",
    "B_df = pd.DataFrame({'precision': precision_B, 'recall': recall_B, 'method': 'B', 'rank': rank})"
   ]
  },
  {
   "cell_type": "code",
   "execution_count": 102,
   "metadata": {},
   "outputs": [
    {
     "data": {
      "text/html": [
       "<div>\n",
       "<style scoped>\n",
       "    .dataframe tbody tr th:only-of-type {\n",
       "        vertical-align: middle;\n",
       "    }\n",
       "\n",
       "    .dataframe tbody tr th {\n",
       "        vertical-align: top;\n",
       "    }\n",
       "\n",
       "    .dataframe thead th {\n",
       "        text-align: right;\n",
       "    }\n",
       "</style>\n",
       "<table border=\"1\" class=\"dataframe\">\n",
       "  <thead>\n",
       "    <tr style=\"text-align: right;\">\n",
       "      <th></th>\n",
       "      <th>precision</th>\n",
       "      <th>recall</th>\n",
       "      <th>method</th>\n",
       "      <th>rank</th>\n",
       "    </tr>\n",
       "  </thead>\n",
       "  <tbody>\n",
       "    <tr>\n",
       "      <th>0</th>\n",
       "      <td>0.000000</td>\n",
       "      <td>0.0</td>\n",
       "      <td>A</td>\n",
       "      <td>1</td>\n",
       "    </tr>\n",
       "    <tr>\n",
       "      <th>1</th>\n",
       "      <td>0.500000</td>\n",
       "      <td>0.2</td>\n",
       "      <td>A</td>\n",
       "      <td>2</td>\n",
       "    </tr>\n",
       "    <tr>\n",
       "      <th>2</th>\n",
       "      <td>0.666667</td>\n",
       "      <td>0.4</td>\n",
       "      <td>A</td>\n",
       "      <td>3</td>\n",
       "    </tr>\n",
       "    <tr>\n",
       "      <th>3</th>\n",
       "      <td>0.750000</td>\n",
       "      <td>0.6</td>\n",
       "      <td>A</td>\n",
       "      <td>4</td>\n",
       "    </tr>\n",
       "    <tr>\n",
       "      <th>4</th>\n",
       "      <td>0.800000</td>\n",
       "      <td>0.8</td>\n",
       "      <td>A</td>\n",
       "      <td>5</td>\n",
       "    </tr>\n",
       "    <tr>\n",
       "      <th>5</th>\n",
       "      <td>0.833333</td>\n",
       "      <td>1.0</td>\n",
       "      <td>A</td>\n",
       "      <td>6</td>\n",
       "    </tr>\n",
       "    <tr>\n",
       "      <th>6</th>\n",
       "      <td>0.714286</td>\n",
       "      <td>1.0</td>\n",
       "      <td>A</td>\n",
       "      <td>7</td>\n",
       "    </tr>\n",
       "    <tr>\n",
       "      <th>7</th>\n",
       "      <td>0.625000</td>\n",
       "      <td>1.0</td>\n",
       "      <td>A</td>\n",
       "      <td>8</td>\n",
       "    </tr>\n",
       "    <tr>\n",
       "      <th>8</th>\n",
       "      <td>0.555556</td>\n",
       "      <td>1.0</td>\n",
       "      <td>A</td>\n",
       "      <td>9</td>\n",
       "    </tr>\n",
       "    <tr>\n",
       "      <th>9</th>\n",
       "      <td>0.500000</td>\n",
       "      <td>1.0</td>\n",
       "      <td>A</td>\n",
       "      <td>10</td>\n",
       "    </tr>\n",
       "    <tr>\n",
       "      <th>0</th>\n",
       "      <td>1.000000</td>\n",
       "      <td>0.2</td>\n",
       "      <td>B</td>\n",
       "      <td>1</td>\n",
       "    </tr>\n",
       "    <tr>\n",
       "      <th>1</th>\n",
       "      <td>1.000000</td>\n",
       "      <td>0.4</td>\n",
       "      <td>B</td>\n",
       "      <td>2</td>\n",
       "    </tr>\n",
       "    <tr>\n",
       "      <th>2</th>\n",
       "      <td>1.000000</td>\n",
       "      <td>0.6</td>\n",
       "      <td>B</td>\n",
       "      <td>3</td>\n",
       "    </tr>\n",
       "    <tr>\n",
       "      <th>3</th>\n",
       "      <td>0.750000</td>\n",
       "      <td>0.6</td>\n",
       "      <td>B</td>\n",
       "      <td>4</td>\n",
       "    </tr>\n",
       "    <tr>\n",
       "      <th>4</th>\n",
       "      <td>0.600000</td>\n",
       "      <td>0.6</td>\n",
       "      <td>B</td>\n",
       "      <td>5</td>\n",
       "    </tr>\n",
       "    <tr>\n",
       "      <th>5</th>\n",
       "      <td>0.500000</td>\n",
       "      <td>0.6</td>\n",
       "      <td>B</td>\n",
       "      <td>6</td>\n",
       "    </tr>\n",
       "    <tr>\n",
       "      <th>6</th>\n",
       "      <td>0.428571</td>\n",
       "      <td>0.6</td>\n",
       "      <td>B</td>\n",
       "      <td>7</td>\n",
       "    </tr>\n",
       "    <tr>\n",
       "      <th>7</th>\n",
       "      <td>0.375000</td>\n",
       "      <td>0.6</td>\n",
       "      <td>B</td>\n",
       "      <td>8</td>\n",
       "    </tr>\n",
       "    <tr>\n",
       "      <th>8</th>\n",
       "      <td>0.444444</td>\n",
       "      <td>0.8</td>\n",
       "      <td>B</td>\n",
       "      <td>9</td>\n",
       "    </tr>\n",
       "    <tr>\n",
       "      <th>9</th>\n",
       "      <td>0.500000</td>\n",
       "      <td>1.0</td>\n",
       "      <td>B</td>\n",
       "      <td>10</td>\n",
       "    </tr>\n",
       "  </tbody>\n",
       "</table>\n",
       "</div>"
      ],
      "text/plain": [
       "   precision  recall method  rank\n",
       "0   0.000000     0.0      A     1\n",
       "1   0.500000     0.2      A     2\n",
       "2   0.666667     0.4      A     3\n",
       "3   0.750000     0.6      A     4\n",
       "4   0.800000     0.8      A     5\n",
       "5   0.833333     1.0      A     6\n",
       "6   0.714286     1.0      A     7\n",
       "7   0.625000     1.0      A     8\n",
       "8   0.555556     1.0      A     9\n",
       "9   0.500000     1.0      A    10\n",
       "0   1.000000     0.2      B     1\n",
       "1   1.000000     0.4      B     2\n",
       "2   1.000000     0.6      B     3\n",
       "3   0.750000     0.6      B     4\n",
       "4   0.600000     0.6      B     5\n",
       "5   0.500000     0.6      B     6\n",
       "6   0.428571     0.6      B     7\n",
       "7   0.375000     0.6      B     8\n",
       "8   0.444444     0.8      B     9\n",
       "9   0.500000     1.0      B    10"
      ]
     },
     "execution_count": 102,
     "metadata": {},
     "output_type": "execute_result"
    }
   ],
   "source": [
    "# Concatenate the dataframes\n",
    "data = pd.concat([A_df, B_df])\n",
    "data"
   ]
  },
  {
   "cell_type": "markdown",
   "metadata": {},
   "source": [
    "recall"
   ]
  },
  {
   "cell_type": "code",
   "execution_count": 103,
   "metadata": {},
   "outputs": [
    {
     "data": {
      "image/png": "[encoded data removed]",
      "text/plain": [
       "<Figure size 640x480 with 1 Axes>"
      ]
     },
     "metadata": {},
     "output_type": "display_data"
    }
   ],
   "source": [
    "plot = sns.lineplot(pd.concat([A_df,B_df]), x ='recall', y ='precision', hue='method')"
   ]
  },
  {
   "cell_type": "markdown",
   "metadata": {},
   "source": [
    "rank"
   ]
  },
  {
   "cell_type": "code",
   "execution_count": 104,
   "metadata": {},
   "outputs": [
    {
     "data": {
      "image/png": "[encoded data removed]",
      "text/plain": [
       "<Figure size 640x480 with 1 Axes>"
      ]
     },
     "metadata": {},
     "output_type": "display_data"
    }
   ],
   "source": [
    "plot = sns.lineplot(pd.concat([A_df,B_df]), x ='rank', y ='precision', hue='method')"
   ]
  },
  {
   "cell_type": "markdown",
   "metadata": {},
   "source": [
    "## (2) ap -- pg 27\n"
   ]
  },
  {
   "cell_type": "code",
   "execution_count": 105,
   "metadata": {},
   "outputs": [
    {
     "name": "stdout",
     "output_type": "stream",
     "text": [
      "AP for system A: 0.71\n",
      "AP for system B: 0.788888888888889\n"
     ]
    }
   ],
   "source": [
    "# Calculate AP for system A\n",
    "ap_A = np.sum(precision_A * system_A) / num_relevant_A\n",
    "\n",
    "# Calculate AP for system B\n",
    "ap_B = np.sum(precision_B * system_B) / num_relevant_B\n",
    "\n",
    "print(f\"AP for system A: {ap_A}\")\n",
    "print(f\"AP for system B: {ap_B}\")\n"
   ]
  },
  {
   "cell_type": "markdown",
   "metadata": {},
   "source": [
    "## (3) ndcg -- pg 40\n"
   ]
  },
  {
   "cell_type": "code",
   "execution_count": 106,
   "metadata": {},
   "outputs": [
    {
     "name": "stdout",
     "output_type": "stream",
     "text": [
      "NDCG@5 for system A: 0.7738931964842558\n",
      "NDCG@5 for system B: 0.8151510484299677\n"
     ]
    }
   ],
   "source": [
    "# Define relevance scores\n",
    "relevance_scores = {'Critical': 3, 'Major': 2, 'Minor': 1}\n",
    "\n",
    "# Define the outputs of the ranking systems\n",
    "system_A = np.array(['Minor', 'Critical', 'Critical', 'Critical', 'Critical', 'Minor', 'Critical', 'Minor', 'Minor', 'Minor'])\n",
    "system_B = np.array(['Critical', 'Critical', 'Critical', 'Minor', 'Minor', 'Minor', 'Minor', 'Critical', 'Critical', 'Minor'])\n",
    "\n",
    "# Convert the outputs to relevance scores\n",
    "system_A_scores = np.array([relevance_scores[i] for i in system_A])\n",
    "system_B_scores = np.array([relevance_scores[i] for i in system_B])\n",
    "\n",
    "# Function to calculate DCG\n",
    "def dcg_at_k(scores, k):\n",
    "    return np.sum(scores[:k] / np.log2(np.arange(2, k + 2)))\n",
    "\n",
    "# Function to calculate NDCG\n",
    "def ndcg_at_k(scores, k):\n",
    "    # ideal = sorted(scores, reverse=True)\n",
    "    idcg = dcg_at_k(sorted(scores, reverse=True), k)\n",
    "    return dcg_at_k(scores, k) / idcg\n",
    "\n",
    "# Calculate NDCG@5 for both systems\n",
    "ndcg_A = ndcg_at_k(system_A_scores, 5)\n",
    "ndcg_B = ndcg_at_k(system_B_scores, 5)\n",
    "\n",
    "print(f\"NDCG@5 for system A: {ndcg_A}\")\n",
    "print(f\"NDCG@5 for system B: {ndcg_B}\")\n"
   ]
  }
 ],
 "metadata": {
  "kernelspec": {
   "display_name": "SE-266",
   "language": "python",
   "name": "python3"
  },
  "language_info": {
   "codemirror_mode": {
    "name": "ipython",
    "version": 3
   },
   "file_extension": ".py",
   "mimetype": "text/x-python",
   "name": "python",
   "nbconvert_exporter": "python",
   "pygments_lexer": "ipython3",
   "version": "3.11.5"
  }
 },
 "nbformat": 4,
 "nbformat_minor": 2
}
