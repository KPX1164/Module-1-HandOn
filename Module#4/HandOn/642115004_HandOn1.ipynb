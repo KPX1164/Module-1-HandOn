{
 "cells": [
  {
   "cell_type": "markdown",
   "metadata": {},
   "source": [
    "642115004 Kitdanai Palee"
   ]
  },
  {
   "cell_type": "code",
   "execution_count": 5,
   "metadata": {},
   "outputs": [],
   "source": [
    "import pandas as pd\n",
    "import numpy as np\n",
    "import os\n",
    "from nltk.tokenize import word_tokenize\n",
    "from nltk.corpus import stopwords\n",
    "from nltk.stem import PorterStemmer\n",
    "from ordered_set import OrderedSet\n",
    "import re\n",
    "from sklearn.feature_extraction.text import CountVectorizer\n",
    "import itertools\n",
    "from string import ascii_lowercase\n",
    "from multiprocessing import Pool\n",
    "from multiprocessing.pool import ThreadPool\n",
    "\n"
   ]
  },
  {
   "cell_type": "markdown",
   "metadata": {},
   "source": [
    "## 20-25"
   ]
  },
  {
   "cell_type": "code",
   "execution_count": 6,
   "metadata": {},
   "outputs": [
    {
     "data": {
      "text/html": [
       "<div>\n",
       "<style scoped>\n",
       "    .dataframe tbody tr th:only-of-type {\n",
       "        vertical-align: middle;\n",
       "    }\n",
       "\n",
       "    .dataframe tbody tr th {\n",
       "        vertical-align: top;\n",
       "    }\n",
       "\n",
       "    .dataframe thead th {\n",
       "        text-align: right;\n",
       "    }\n",
       "</style>\n",
       "<table border=\"1\" class=\"dataframe\">\n",
       "  <thead>\n",
       "    <tr style=\"text-align: right;\">\n",
       "      <th></th>\n",
       "      <th>word</th>\n",
       "      <th>frequency</th>\n",
       "      <th>P(w)</th>\n",
       "      <th>rank</th>\n",
       "    </tr>\n",
       "  </thead>\n",
       "  <tbody>\n",
       "    <tr>\n",
       "      <th>0</th>\n",
       "      <td>deet</td>\n",
       "      <td>420</td>\n",
       "      <td>4.193245e-07</td>\n",
       "      <td>5</td>\n",
       "    </tr>\n",
       "    <tr>\n",
       "      <th>1</th>\n",
       "      <td>deft</td>\n",
       "      <td>1240</td>\n",
       "      <td>1.238006e-06</td>\n",
       "      <td>4</td>\n",
       "    </tr>\n",
       "    <tr>\n",
       "      <th>2</th>\n",
       "      <td>defer</td>\n",
       "      <td>2237</td>\n",
       "      <td>2.233402e-06</td>\n",
       "      <td>3</td>\n",
       "    </tr>\n",
       "    <tr>\n",
       "      <th>3</th>\n",
       "      <td>defeat</td>\n",
       "      <td>21940</td>\n",
       "      <td>2.190471e-05</td>\n",
       "      <td>1</td>\n",
       "    </tr>\n",
       "    <tr>\n",
       "      <th>4</th>\n",
       "      <td>defect</td>\n",
       "      <td>3972</td>\n",
       "      <td>3.965612e-06</td>\n",
       "      <td>2</td>\n",
       "    </tr>\n",
       "  </tbody>\n",
       "</table>\n",
       "</div>"
      ],
      "text/plain": [
       "     word  frequency          P(w)  rank\n",
       "0    deet        420  4.193245e-07     5\n",
       "1    deft       1240  1.238006e-06     4\n",
       "2   defer       2237  2.233402e-06     3\n",
       "3  defeat      21940  2.190471e-05     1\n",
       "4  defect       3972  3.965612e-06     2"
      ]
     },
     "execution_count": 6,
     "metadata": {},
     "output_type": "execute_result"
    }
   ],
   "source": [
    "COCA = pd.DataFrame([['deet',420], ['deft',1240], ['defer', 2237], ['defeat',21940], ['defect',3972]], columns=['word','frequency'])\n",
    "COCA_pop = 1001610938\n",
    "COCA['P(w)'] = COCA['frequency']/COCA_pop\n",
    "COCA['rank'] = COCA['frequency'].rank(ascending=False, method='min').astype(int)\n",
    "COCA"
   ]
  },
  {
   "cell_type": "code",
   "execution_count": 7,
   "metadata": {},
   "outputs": [
    {
     "data": {
      "text/html": [
       "<div>\n",
       "<style scoped>\n",
       "    .dataframe tbody tr th:only-of-type {\n",
       "        vertical-align: middle;\n",
       "    }\n",
       "\n",
       "    .dataframe tbody tr th {\n",
       "        vertical-align: top;\n",
       "    }\n",
       "\n",
       "    .dataframe thead th {\n",
       "        text-align: right;\n",
       "    }\n",
       "</style>\n",
       "<table border=\"1\" class=\"dataframe\">\n",
       "  <thead>\n",
       "    <tr style=\"text-align: right;\">\n",
       "      <th></th>\n",
       "      <th>word</th>\n",
       "      <th>frequency</th>\n",
       "      <th>P(w)</th>\n",
       "      <th>rank</th>\n",
       "    </tr>\n",
       "  </thead>\n",
       "  <tbody>\n",
       "    <tr>\n",
       "      <th>0</th>\n",
       "      <td>deet</td>\n",
       "      <td>124</td>\n",
       "      <td>6.526316e-08</td>\n",
       "      <td>5</td>\n",
       "    </tr>\n",
       "    <tr>\n",
       "      <th>1</th>\n",
       "      <td>deft</td>\n",
       "      <td>814</td>\n",
       "      <td>4.284211e-07</td>\n",
       "      <td>4</td>\n",
       "    </tr>\n",
       "    <tr>\n",
       "      <th>2</th>\n",
       "      <td>defer</td>\n",
       "      <td>1416</td>\n",
       "      <td>7.452632e-07</td>\n",
       "      <td>3</td>\n",
       "    </tr>\n",
       "    <tr>\n",
       "      <th>3</th>\n",
       "      <td>defeat</td>\n",
       "      <td>121408</td>\n",
       "      <td>6.389895e-05</td>\n",
       "      <td>1</td>\n",
       "    </tr>\n",
       "    <tr>\n",
       "      <th>4</th>\n",
       "      <td>defect</td>\n",
       "      <td>7793</td>\n",
       "      <td>4.101579e-06</td>\n",
       "      <td>2</td>\n",
       "    </tr>\n",
       "  </tbody>\n",
       "</table>\n",
       "</div>"
      ],
      "text/plain": [
       "     word  frequency          P(w)  rank\n",
       "0    deet        124  6.526316e-08     5\n",
       "1    deft        814  4.284211e-07     4\n",
       "2   defer       1416  7.452632e-07     3\n",
       "3  defeat     121408  6.389895e-05     1\n",
       "4  defect       7793  4.101579e-06     2"
      ]
     },
     "execution_count": 7,
     "metadata": {},
     "output_type": "execute_result"
    }
   ],
   "source": [
    "WIKI = pd.DataFrame([['deet',124], ['deft',814], ['defer', 1416], ['defeat',121408], ['defect',7793]], columns=['word','frequency'])\n",
    "WIKI_pop = 1.9e9\n",
    "WIKI['P(w)'] = WIKI['frequency']/WIKI_pop\n",
    "WIKI['rank'] = WIKI['frequency'].rank(ascending=False, method='min').astype(int)\n",
    "WIKI"
   ]
  },
  {
   "cell_type": "code",
   "execution_count": 8,
   "metadata": {},
   "outputs": [],
   "source": [
    "topdir = '../Resource/iula/'\n",
    "all_content = []\n",
    "for dirpath, dirnames, filename in os.walk(topdir):\n",
    "    for name in filename:\n",
    "        if name.endswith('plain.txt'):\n",
    "            with open(os.path.join(dirpath, name)) as f:\n",
    "                all_content.append(f.read())"
   ]
  },
  {
   "cell_type": "code",
   "execution_count": 9,
   "metadata": {},
   "outputs": [],
   "source": [
    "def create_stem_cache(cleaned_description):\n",
    "    tokenized_description = [word_tokenize(s) for s in cleaned_description]\n",
    "    concated = np.unique(np.concatenate(tokenized_description))\n",
    "    stem_cache = {}\n",
    "    ps = PorterStemmer()\n",
    "    for s in concated:\n",
    "        stem_cache[s] = ps.stem(s)\n",
    "    return stem_cache\n",
    "\n",
    "def create_custom_preprocessor(stop_dict, stem_cache):\n",
    "    def custom_preprocessor(s):\n",
    "        ps = PorterStemmer()\n",
    "        s = re.sub(r'[^A-Za-z]', ' ', s)\n",
    "        s = re.sub(r'\\s+', ' ', s)\n",
    "        s = word_tokenize(s)\n",
    "        s = list(OrderedSet(s) - stop_dict)\n",
    "        s = [word for word in s if len(word)>2]\n",
    "        s = [stem_cache[w] if w in stem_cache else ps.stem(w) for w in s]\n",
    "        s = ' '.join(s)\n",
    "        return s\n",
    "    return custom_preprocessor\n",
    "\n"
   ]
  },
  {
   "cell_type": "code",
   "execution_count": 10,
   "metadata": {},
   "outputs": [],
   "source": [
    "stem_cache = create_stem_cache(all_content)\n",
    "stop_dict = set(stopwords.words('English'))\n",
    "preProcess = create_custom_preprocessor(stop_dict,stem_cache)"
   ]
  },
  {
   "cell_type": "code",
   "execution_count": 11,
   "metadata": {},
   "outputs": [],
   "source": [
    "processed_content = [preProcess(s) for s in all_content]"
   ]
  },
  {
   "cell_type": "code",
   "execution_count": 12,
   "metadata": {},
   "outputs": [],
   "source": [
    "vectorizer = CountVectorizer()\n",
    "vectorizer.fit(processed_content)\n",
    "freq_iula = vectorizer.transform(processed_content)\n",
    "freq_iula = pd.DataFrame(freq_iula.todense(), columns=vectorizer.get_feature_names_out()).sum()\n"
   ]
  },
  {
   "cell_type": "code",
   "execution_count": 13,
   "metadata": {},
   "outputs": [
    {
     "data": {
      "text/plain": [
       "aaa             1\n",
       "aaaaaa          1\n",
       "aalborg         2\n",
       "aarhu           1\n",
       "aaron           3\n",
       "               ..\n",
       "zuckerkandl     1\n",
       "zurich          4\n",
       "zvi             1\n",
       "zygos           1\n",
       "zygot          10\n",
       "Length: 22529, dtype: int64"
      ]
     },
     "execution_count": 13,
     "metadata": {},
     "output_type": "execute_result"
    }
   ],
   "source": [
    "freq_iula"
   ]
  },
  {
   "cell_type": "code",
   "execution_count": 14,
   "metadata": {},
   "outputs": [
    {
     "data": {
      "text/plain": [
       "deet       0\n",
       "deft       0\n",
       "defer      5\n",
       "defect    79\n",
       "defeat     9\n",
       "dtype: int64"
      ]
     },
     "execution_count": 14,
     "metadata": {},
     "output_type": "execute_result"
    }
   ],
   "source": [
    "query = ['deet', 'deft', 'defer', 'defect', 'defeat']\n",
    "transformed_query = [vectorizer.inverse_transform(vectorizer.transform([q])) for q in query]\n",
    "query_freq = pd.Series([freq_iula.T.loc[tq[0]].values[0] if len(tq[0]) > 0 else 0 for tq in transformed_query], index= query)\n",
    "query_freq"
   ]
  },
  {
   "cell_type": "code",
   "execution_count": 15,
   "metadata": {},
   "outputs": [
    {
     "data": {
      "text/html": [
       "<div>\n",
       "<style scoped>\n",
       "    .dataframe tbody tr th:only-of-type {\n",
       "        vertical-align: middle;\n",
       "    }\n",
       "\n",
       "    .dataframe tbody tr th {\n",
       "        vertical-align: top;\n",
       "    }\n",
       "\n",
       "    .dataframe thead th {\n",
       "        text-align: right;\n",
       "    }\n",
       "</style>\n",
       "<table border=\"1\" class=\"dataframe\">\n",
       "  <thead>\n",
       "    <tr style=\"text-align: right;\">\n",
       "      <th></th>\n",
       "      <th>frequency</th>\n",
       "      <th>P(w)</th>\n",
       "      <th>rank</th>\n",
       "    </tr>\n",
       "  </thead>\n",
       "  <tbody>\n",
       "    <tr>\n",
       "      <th>deet</th>\n",
       "      <td>0</td>\n",
       "      <td>0.000000</td>\n",
       "      <td>4</td>\n",
       "    </tr>\n",
       "    <tr>\n",
       "      <th>deft</th>\n",
       "      <td>0</td>\n",
       "      <td>0.000000</td>\n",
       "      <td>4</td>\n",
       "    </tr>\n",
       "    <tr>\n",
       "      <th>defer</th>\n",
       "      <td>5</td>\n",
       "      <td>0.000222</td>\n",
       "      <td>3</td>\n",
       "    </tr>\n",
       "    <tr>\n",
       "      <th>defect</th>\n",
       "      <td>79</td>\n",
       "      <td>0.003507</td>\n",
       "      <td>1</td>\n",
       "    </tr>\n",
       "    <tr>\n",
       "      <th>defeat</th>\n",
       "      <td>9</td>\n",
       "      <td>0.000399</td>\n",
       "      <td>2</td>\n",
       "    </tr>\n",
       "  </tbody>\n",
       "</table>\n",
       "</div>"
      ],
      "text/plain": [
       "        frequency      P(w)  rank\n",
       "deet            0  0.000000     4\n",
       "deft            0  0.000000     4\n",
       "defer           5  0.000222     3\n",
       "defect         79  0.003507     1\n",
       "defeat          9  0.000399     2"
      ]
     },
     "execution_count": 15,
     "metadata": {},
     "output_type": "execute_result"
    }
   ],
   "source": [
    "IULA = pd.DataFrame(query_freq, columns=['frequency'])\n",
    "IULA_pop = len(freq_iula)\n",
    "IULA['P(w)'] = IULA['frequency']/IULA_pop\n",
    "IULA['rank'] = IULA['frequency'].rank(ascending=False).astype(int)\n",
    "IULA"
   ]
  },
  {
   "cell_type": "markdown",
   "metadata": {},
   "source": [
    "# 28-33"
   ]
  },
  {
   "cell_type": "code",
   "execution_count": 16,
   "metadata": {},
   "outputs": [
    {
     "name": "stdout",
     "output_type": "stream",
     "text": [
      "      edit\n",
      "term      \n",
      "e|i    917\n",
      "a|e    856\n",
      "i|e    771\n",
      "e|a    749\n",
      "a|i    559\n"
     ]
    }
   ],
   "source": [
    "norvig = pd.read_csv('http://norvig.com/ngrams/count_1edit.txt', sep='\\t', encoding=\"ISO-8859-1\", header=None)\n",
    "norvig.columns = ['term', 'edit']\n",
    "norvig = norvig.set_index('term')\n",
    "print(norvig.head())\n"
   ]
  },
  {
   "cell_type": "code",
   "execution_count": 17,
   "metadata": {},
   "outputs": [
    {
     "name": "stdout",
     "output_type": "stream",
     "text": [
      "    term   freq\n",
      "0      a  21160\n",
      "1    aah      1\n",
      "2  aaron      5\n",
      "3     ab      2\n",
      "4  aback      3\n"
     ]
    }
   ],
   "source": [
    "norvig_orig = pd.read_csv('http://norvig.com/ngrams/count_big.txt', sep='\\t', encoding=\"ISO-8859-1\", header=None)\n",
    "norvig_orig = norvig_orig.dropna()\n",
    "norvig_orig.columns=['term','freq']\n",
    "print(norvig_orig.head())\n"
   ]
  },
  {
   "cell_type": "code",
   "execution_count": 18,
   "metadata": {},
   "outputs": [],
   "source": [
    "def get_count(c,norvig_orig):\n",
    "    return norvig_orig.apply(lambda x: x.term.count(c) * x.freq, axis=1).sum()\n"
   ]
  },
  {
   "cell_type": "code",
   "execution_count": 19,
   "metadata": {},
   "outputs": [],
   "source": [
    "character_set = list(map(''.join, itertools.product(ascii_lowercase, repeat=1))) + list(map(''.join, itertools.product(ascii_lowercase, repeat=2)))\n",
    "\n",
    "pool = ThreadPool(8) #8 is your #compute cores\n",
    "freq_list = pool.starmap(get_count, zip(character_set, itertools.repeat(norvig_orig)))\n",
    "\n",
    "freq_df = pd.DataFrame([character_set, freq_list], index=['char', 'freq']).T\n",
    "freq_df = freq_df.set_index('char')\n"
   ]
  },
  {
   "cell_type": "code",
   "execution_count": 20,
   "metadata": {},
   "outputs": [
    {
     "data": {
      "text/html": [
       "<div>\n",
       "<style scoped>\n",
       "    .dataframe tbody tr th:only-of-type {\n",
       "        vertical-align: middle;\n",
       "    }\n",
       "\n",
       "    .dataframe tbody tr th {\n",
       "        vertical-align: top;\n",
       "    }\n",
       "\n",
       "    .dataframe thead th {\n",
       "        text-align: right;\n",
       "    }\n",
       "</style>\n",
       "<table border=\"1\" class=\"dataframe\">\n",
       "  <thead>\n",
       "    <tr style=\"text-align: right;\">\n",
       "      <th></th>\n",
       "      <th>word</th>\n",
       "      <th>frequency</th>\n",
       "      <th>P(w)</th>\n",
       "      <th>rank</th>\n",
       "      <th>P(x|w)</th>\n",
       "    </tr>\n",
       "  </thead>\n",
       "  <tbody>\n",
       "    <tr>\n",
       "      <th>0</th>\n",
       "      <td>deet</td>\n",
       "      <td>420</td>\n",
       "      <td>4.193245e-07</td>\n",
       "      <td>5</td>\n",
       "      <td>0.000000</td>\n",
       "    </tr>\n",
       "    <tr>\n",
       "      <th>1</th>\n",
       "      <td>deft</td>\n",
       "      <td>1240</td>\n",
       "      <td>1.238006e-06</td>\n",
       "      <td>4</td>\n",
       "      <td>0.000003</td>\n",
       "    </tr>\n",
       "    <tr>\n",
       "      <th>2</th>\n",
       "      <td>defer</td>\n",
       "      <td>2237</td>\n",
       "      <td>2.233402e-06</td>\n",
       "      <td>3</td>\n",
       "      <td>0.000036</td>\n",
       "    </tr>\n",
       "    <tr>\n",
       "      <th>3</th>\n",
       "      <td>defeat</td>\n",
       "      <td>21940</td>\n",
       "      <td>2.190471e-05</td>\n",
       "      <td>1</td>\n",
       "      <td>0.012834</td>\n",
       "    </tr>\n",
       "    <tr>\n",
       "      <th>4</th>\n",
       "      <td>defect</td>\n",
       "      <td>3972</td>\n",
       "      <td>3.965612e-06</td>\n",
       "      <td>2</td>\n",
       "      <td>0.003167</td>\n",
       "    </tr>\n",
       "  </tbody>\n",
       "</table>\n",
       "</div>"
      ],
      "text/plain": [
       "     word  frequency          P(w)  rank    P(x|w)\n",
       "0    deet        420  4.193245e-07     5  0.000000\n",
       "1    deft       1240  1.238006e-06     4  0.000003\n",
       "2   defer       2237  2.233402e-06     3  0.000036\n",
       "3  defeat      21940  2.190471e-05     1  0.012834\n",
       "4  defect       3972  3.965612e-06     2  0.003167"
      ]
     },
     "execution_count": 20,
     "metadata": {},
     "output_type": "execute_result"
    }
   ],
   "source": [
    "COCA['P(x|w)'] = [\n",
    "    (0 / freq_df.loc['f'].values)[0], #deet\n",
    "    (norvig.loc['e| '].values / freq_df.loc['e'].values)[0], #deft\n",
    "    (norvig.loc['t|r'].values / freq_df.loc['r'].values)[0], #defer\n",
    "    (norvig.loc['e|ea'].values / freq_df.loc['ea'].values)[0], #defeat\n",
    "    (norvig.loc['e|ec'].values / freq_df.loc['ec'].values)[0] #defect\n",
    "]\n",
    "\n",
    "COCA"
   ]
  },
  {
   "cell_type": "code",
   "execution_count": 21,
   "metadata": {},
   "outputs": [
    {
     "data": {
      "text/html": [
       "<div>\n",
       "<style scoped>\n",
       "    .dataframe tbody tr th:only-of-type {\n",
       "        vertical-align: middle;\n",
       "    }\n",
       "\n",
       "    .dataframe tbody tr th {\n",
       "        vertical-align: top;\n",
       "    }\n",
       "\n",
       "    .dataframe thead th {\n",
       "        text-align: right;\n",
       "    }\n",
       "</style>\n",
       "<table border=\"1\" class=\"dataframe\">\n",
       "  <thead>\n",
       "    <tr style=\"text-align: right;\">\n",
       "      <th></th>\n",
       "      <th>word</th>\n",
       "      <th>frequency</th>\n",
       "      <th>P(w)</th>\n",
       "      <th>rank</th>\n",
       "      <th>P(x|w)</th>\n",
       "      <th>109 P(x|w)P(w)</th>\n",
       "    </tr>\n",
       "  </thead>\n",
       "  <tbody>\n",
       "    <tr>\n",
       "      <th>0</th>\n",
       "      <td>deet</td>\n",
       "      <td>420</td>\n",
       "      <td>4.193245e-07</td>\n",
       "      <td>5</td>\n",
       "      <td>0.000000</td>\n",
       "      <td>0.000000</td>\n",
       "    </tr>\n",
       "    <tr>\n",
       "      <th>1</th>\n",
       "      <td>deft</td>\n",
       "      <td>1240</td>\n",
       "      <td>1.238006e-06</td>\n",
       "      <td>4</td>\n",
       "      <td>0.000003</td>\n",
       "      <td>0.003912</td>\n",
       "    </tr>\n",
       "    <tr>\n",
       "      <th>2</th>\n",
       "      <td>defer</td>\n",
       "      <td>2237</td>\n",
       "      <td>2.233402e-06</td>\n",
       "      <td>3</td>\n",
       "      <td>0.000036</td>\n",
       "      <td>0.079366</td>\n",
       "    </tr>\n",
       "    <tr>\n",
       "      <th>3</th>\n",
       "      <td>defeat</td>\n",
       "      <td>21940</td>\n",
       "      <td>2.190471e-05</td>\n",
       "      <td>1</td>\n",
       "      <td>0.012834</td>\n",
       "      <td>281.124909</td>\n",
       "    </tr>\n",
       "    <tr>\n",
       "      <th>4</th>\n",
       "      <td>defect</td>\n",
       "      <td>3972</td>\n",
       "      <td>3.965612e-06</td>\n",
       "      <td>2</td>\n",
       "      <td>0.003167</td>\n",
       "      <td>12.558705</td>\n",
       "    </tr>\n",
       "  </tbody>\n",
       "</table>\n",
       "</div>"
      ],
      "text/plain": [
       "     word  frequency          P(w)  rank    P(x|w)  109 P(x|w)P(w)\n",
       "0    deet        420  4.193245e-07     5  0.000000        0.000000\n",
       "1    deft       1240  1.238006e-06     4  0.000003        0.003912\n",
       "2   defer       2237  2.233402e-06     3  0.000036        0.079366\n",
       "3  defeat      21940  2.190471e-05     1  0.012834      281.124909\n",
       "4  defect       3972  3.965612e-06     2  0.003167       12.558705"
      ]
     },
     "execution_count": 21,
     "metadata": {},
     "output_type": "execute_result"
    }
   ],
   "source": [
    "COCA['109 P(x|w)P(w)'] = 1e9 * COCA['P(w)'] * COCA['P(x|w)']\n",
    "COCA"
   ]
  }
 ],
 "metadata": {
  "kernelspec": {
   "display_name": "SE-266",
   "language": "python",
   "name": "python3"
  },
  "language_info": {
   "codemirror_mode": {
    "name": "ipython",
    "version": 3
   },
   "file_extension": ".py",
   "mimetype": "text/x-python",
   "name": "python",
   "nbconvert_exporter": "python",
   "pygments_lexer": "ipython3",
   "version": "3.11.5"
  }
 },
 "nbformat": 4,
 "nbformat_minor": 2
}
