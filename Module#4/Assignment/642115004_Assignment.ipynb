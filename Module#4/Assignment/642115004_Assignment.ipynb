{
 "cells": [
  {
   "cell_type": "markdown",
   "metadata": {},
   "source": [
    "Created by 642115004 Kitdanai Palee"
   ]
  },
  {
   "cell_type": "code",
   "execution_count": 9,
   "metadata": {},
   "outputs": [],
   "source": [
    "import os\n",
    "import numpy as np\n",
    "import pandas as pd\n",
    "from nltk.tokenize import word_tokenize\n",
    "from nltk.corpus import stopwords\n",
    "from nltk.stem import PorterStemmer\n",
    "from ordered_set import OrderedSet\n",
    "import re\n",
    "from sklearn.feature_extraction.text import CountVectorizer\n",
    "import itertools\n",
    "from string import ascii_lowercase\n",
    "from multiprocessing import Pool\n",
    "from multiprocessing.pool import ThreadPool"
   ]
  },
  {
   "cell_type": "markdown",
   "metadata": {},
   "source": [
    "IULA"
   ]
  },
  {
   "cell_type": "code",
   "execution_count": 10,
   "metadata": {},
   "outputs": [],
   "source": [
    "topdir = '../Resource/iula/'\n",
    "all_content = []\n",
    "for dirpath, dirnames, filename in os.walk(topdir):\n",
    "    for name in filename:\n",
    "        if name.endswith('plain.txt'):\n",
    "            with open(os.path.join(dirpath, name)) as f:\n",
    "                all_content.append(f.read())"
   ]
  },
  {
   "cell_type": "markdown",
   "metadata": {},
   "source": [
    "Error: `beter`\n",
    "\n",
    "Candidates: bitter, better, batter, butter, otter"
   ]
  },
  {
   "cell_type": "code",
   "execution_count": 45,
   "metadata": {},
   "outputs": [
    {
     "data": {
      "text/html": [
       "<div>\n",
       "<style scoped>\n",
       "    .dataframe tbody tr th:only-of-type {\n",
       "        vertical-align: middle;\n",
       "    }\n",
       "\n",
       "    .dataframe tbody tr th {\n",
       "        vertical-align: top;\n",
       "    }\n",
       "\n",
       "    .dataframe thead th {\n",
       "        text-align: right;\n",
       "    }\n",
       "</style>\n",
       "<table border=\"1\" class=\"dataframe\">\n",
       "  <thead>\n",
       "    <tr style=\"text-align: right;\">\n",
       "      <th></th>\n",
       "      <th>word</th>\n",
       "      <th>frequency</th>\n",
       "      <th>P(w)</th>\n",
       "      <th>rank</th>\n",
       "    </tr>\n",
       "  </thead>\n",
       "  <tbody>\n",
       "    <tr>\n",
       "      <th>0</th>\n",
       "      <td>bitter</td>\n",
       "      <td>16976</td>\n",
       "      <td>0.000017</td>\n",
       "      <td>3</td>\n",
       "    </tr>\n",
       "    <tr>\n",
       "      <th>1</th>\n",
       "      <td>better</td>\n",
       "      <td>495426</td>\n",
       "      <td>0.000495</td>\n",
       "      <td>1</td>\n",
       "    </tr>\n",
       "    <tr>\n",
       "      <th>2</th>\n",
       "      <td>otter</td>\n",
       "      <td>1388</td>\n",
       "      <td>0.000001</td>\n",
       "      <td>5</td>\n",
       "    </tr>\n",
       "    <tr>\n",
       "      <th>3</th>\n",
       "      <td>batter</td>\n",
       "      <td>5932</td>\n",
       "      <td>0.000006</td>\n",
       "      <td>4</td>\n",
       "    </tr>\n",
       "    <tr>\n",
       "      <th>4</th>\n",
       "      <td>butter</td>\n",
       "      <td>28812</td>\n",
       "      <td>0.000029</td>\n",
       "      <td>2</td>\n",
       "    </tr>\n",
       "  </tbody>\n",
       "</table>\n",
       "</div>"
      ],
      "text/plain": [
       "     word  frequency      P(w)  rank\n",
       "0  bitter      16976  0.000017     3\n",
       "1  better     495426  0.000495     1\n",
       "2   otter       1388  0.000001     5\n",
       "3  batter       5932  0.000006     4\n",
       "4  butter      28812  0.000029     2"
      ]
     },
     "execution_count": 45,
     "metadata": {},
     "output_type": "execute_result"
    }
   ],
   "source": [
    "COCA = pd.DataFrame([['bitter',16976], ['better',495426], ['otter', 1388], ['batter',5932], ['butter',28812]], columns=['word','frequency'])\n",
    "COCA_pop = 1001610938\n",
    "COCA['P(w)'] = COCA['frequency']/COCA_pop\n",
    "COCA['rank'] = COCA['frequency'].rank(ascending=False, method='min').astype(int)\n",
    "COCA"
   ]
  },
  {
   "cell_type": "code",
   "execution_count": 46,
   "metadata": {},
   "outputs": [],
   "source": [
    "def create_stem_cache(cleaned_description):\n",
    "    tokenized_description = [word_tokenize(s) for s in cleaned_description]\n",
    "    concated = np.unique(np.concatenate(tokenized_description))\n",
    "    stem_cache = {}\n",
    "    ps = PorterStemmer()\n",
    "    for s in concated:\n",
    "        stem_cache[s] = ps.stem(s)\n",
    "    return stem_cache\n",
    "\n",
    "def create_custom_preprocessor(stop_dict, stem_cache):\n",
    "    def custom_preprocessor(s):\n",
    "        ps = PorterStemmer()\n",
    "        s = re.sub(r'[^A-Za-z]', ' ', s)\n",
    "        s = re.sub(r'\\s+', ' ', s)\n",
    "        s = word_tokenize(s)\n",
    "        s = list(OrderedSet(s) - stop_dict)\n",
    "        s = [word for word in s if len(word)>2]\n",
    "        s = [stem_cache[w] if w in stem_cache else ps.stem(w) for w in s]\n",
    "        s = ' '.join(s)\n",
    "        return s\n",
    "    return custom_preprocessor\n"
   ]
  },
  {
   "cell_type": "code",
   "execution_count": 47,
   "metadata": {},
   "outputs": [],
   "source": [
    "stem_cache = create_stem_cache(all_content)\n",
    "stop_dict = set(stopwords.words('English'))\n",
    "preProcess = create_custom_preprocessor(stop_dict,stem_cache)"
   ]
  },
  {
   "cell_type": "code",
   "execution_count": 48,
   "metadata": {},
   "outputs": [],
   "source": [
    "processed_content = [preProcess(s) for s in all_content]"
   ]
  },
  {
   "cell_type": "code",
   "execution_count": 49,
   "metadata": {},
   "outputs": [
    {
     "data": {
      "text/plain": [
       "aaa             1\n",
       "aaaaaa          1\n",
       "aalborg         2\n",
       "aarhu           1\n",
       "aaron           3\n",
       "               ..\n",
       "zuckerkandl     1\n",
       "zurich          4\n",
       "zvi             1\n",
       "zygos           1\n",
       "zygot          10\n",
       "Length: 22529, dtype: int64"
      ]
     },
     "execution_count": 49,
     "metadata": {},
     "output_type": "execute_result"
    }
   ],
   "source": [
    "vectorizer = CountVectorizer()\n",
    "vectorizer.fit(processed_content)\n",
    "freq_iula = vectorizer.transform(processed_content)\n",
    "freq_iula = pd.DataFrame(freq_iula.todense(), columns=vectorizer.get_feature_names_out()).sum()\n",
    "freq_iula"
   ]
  },
  {
   "cell_type": "code",
   "execution_count": 50,
   "metadata": {},
   "outputs": [
    {
     "data": {
      "text/plain": [
       "bitter     1\n",
       "better    84\n",
       "otter      0\n",
       "batter     1\n",
       "butter     1\n",
       "dtype: int64"
      ]
     },
     "execution_count": 50,
     "metadata": {},
     "output_type": "execute_result"
    }
   ],
   "source": [
    "query = ['bitter', 'better', 'otter', 'batter', 'butter']\n",
    "transformed_query = [vectorizer.inverse_transform(vectorizer.transform([q])) for q in query]\n",
    "query_freq = pd.Series([freq_iula.T.loc[tq[0]].values[0] if len(tq[0]) > 0 else 0 for tq in transformed_query], index= query)\n",
    "query_freq"
   ]
  },
  {
   "cell_type": "code",
   "execution_count": 51,
   "metadata": {},
   "outputs": [
    {
     "data": {
      "text/html": [
       "<div>\n",
       "<style scoped>\n",
       "    .dataframe tbody tr th:only-of-type {\n",
       "        vertical-align: middle;\n",
       "    }\n",
       "\n",
       "    .dataframe tbody tr th {\n",
       "        vertical-align: top;\n",
       "    }\n",
       "\n",
       "    .dataframe thead th {\n",
       "        text-align: right;\n",
       "    }\n",
       "</style>\n",
       "<table border=\"1\" class=\"dataframe\">\n",
       "  <thead>\n",
       "    <tr style=\"text-align: right;\">\n",
       "      <th></th>\n",
       "      <th>frequency</th>\n",
       "      <th>P(w)</th>\n",
       "      <th>rank</th>\n",
       "    </tr>\n",
       "  </thead>\n",
       "  <tbody>\n",
       "    <tr>\n",
       "      <th>bitter</th>\n",
       "      <td>1</td>\n",
       "      <td>0.000044</td>\n",
       "      <td>3</td>\n",
       "    </tr>\n",
       "    <tr>\n",
       "      <th>better</th>\n",
       "      <td>84</td>\n",
       "      <td>0.003729</td>\n",
       "      <td>1</td>\n",
       "    </tr>\n",
       "    <tr>\n",
       "      <th>otter</th>\n",
       "      <td>0</td>\n",
       "      <td>0.000000</td>\n",
       "      <td>5</td>\n",
       "    </tr>\n",
       "    <tr>\n",
       "      <th>batter</th>\n",
       "      <td>1</td>\n",
       "      <td>0.000044</td>\n",
       "      <td>3</td>\n",
       "    </tr>\n",
       "    <tr>\n",
       "      <th>butter</th>\n",
       "      <td>1</td>\n",
       "      <td>0.000044</td>\n",
       "      <td>3</td>\n",
       "    </tr>\n",
       "  </tbody>\n",
       "</table>\n",
       "</div>"
      ],
      "text/plain": [
       "        frequency      P(w)  rank\n",
       "bitter          1  0.000044     3\n",
       "better         84  0.003729     1\n",
       "otter           0  0.000000     5\n",
       "batter          1  0.000044     3\n",
       "butter          1  0.000044     3"
      ]
     },
     "execution_count": 51,
     "metadata": {},
     "output_type": "execute_result"
    }
   ],
   "source": [
    "IULA = pd.DataFrame(query_freq, columns=['frequency'])\n",
    "IULA_pop = len(freq_iula)\n",
    "IULA['P(w)'] = IULA['frequency']/IULA_pop\n",
    "IULA['rank'] = IULA['frequency'].rank(ascending=False).astype(int)\n",
    "IULA"
   ]
  },
  {
   "cell_type": "code",
   "execution_count": 52,
   "metadata": {},
   "outputs": [
    {
     "name": "stdout",
     "output_type": "stream",
     "text": [
      "      edit\n",
      "term      \n",
      "e|i    917\n",
      "a|e    856\n",
      "i|e    771\n",
      "e|a    749\n",
      "a|i    559\n"
     ]
    }
   ],
   "source": [
    "norvig = pd.read_csv('http://norvig.com/ngrams/count_1edit.txt', sep='\\t', encoding=\"ISO-8859-1\", header=None)\n",
    "norvig.columns = ['term', 'edit']\n",
    "norvig = norvig.set_index('term')\n",
    "print(norvig.head())\n"
   ]
  },
  {
   "cell_type": "code",
   "execution_count": 53,
   "metadata": {},
   "outputs": [
    {
     "name": "stdout",
     "output_type": "stream",
     "text": [
      "    term   freq\n",
      "0      a  21160\n",
      "1    aah      1\n",
      "2  aaron      5\n",
      "3     ab      2\n",
      "4  aback      3\n"
     ]
    }
   ],
   "source": [
    "norvig_orig = pd.read_csv('http://norvig.com/ngrams/count_big.txt', sep='\\t', encoding=\"ISO-8859-1\", header=None)\n",
    "norvig_orig = norvig_orig.dropna()\n",
    "norvig_orig.columns=['term','freq']\n",
    "print(norvig_orig.head())\n"
   ]
  },
  {
   "cell_type": "code",
   "execution_count": 54,
   "metadata": {},
   "outputs": [],
   "source": [
    "def get_count(c,norvig_orig):\n",
    "    return norvig_orig.apply(lambda x: x.term.count(c) * x.freq, axis=1).sum()\n"
   ]
  },
  {
   "cell_type": "code",
   "execution_count": 55,
   "metadata": {},
   "outputs": [],
   "source": [
    "character_set = list(map(''.join, itertools.product(ascii_lowercase, repeat=1))) + list(map(''.join, itertools.product(ascii_lowercase, repeat=2)))\n",
    "\n",
    "pool = ThreadPool(8) #8 is your #compute cores\n",
    "freq_list = pool.starmap(get_count, zip(character_set, itertools.repeat(norvig_orig)))\n",
    "\n",
    "freq_df = pd.DataFrame([character_set, freq_list], index=['char', 'freq']).T\n",
    "freq_df = freq_df.set_index('char')\n"
   ]
  },
  {
   "cell_type": "markdown",
   "metadata": {},
   "source": [
    "Error: `btter`\n",
    "\n",
    "\n",
    "\n",
    "\n",
    "| Candidate | Correct Letter | Error Letter |\n",
    "|------------|----------------|--------------|\n",
    "| Bitter     | i              | -            |\n",
    "| Better     | e              | -            |\n",
    "| otter      | o              | -            |\n",
    "| Batter     | a              | -            |\n",
    "| Butter     | u              | -            |\n"
   ]
  },
  {
   "cell_type": "code",
   "execution_count": 57,
   "metadata": {},
   "outputs": [
    {
     "data": {
      "text/html": [
       "<div>\n",
       "<style scoped>\n",
       "    .dataframe tbody tr th:only-of-type {\n",
       "        vertical-align: middle;\n",
       "    }\n",
       "\n",
       "    .dataframe tbody tr th {\n",
       "        vertical-align: top;\n",
       "    }\n",
       "\n",
       "    .dataframe thead th {\n",
       "        text-align: right;\n",
       "    }\n",
       "</style>\n",
       "<table border=\"1\" class=\"dataframe\">\n",
       "  <thead>\n",
       "    <tr style=\"text-align: right;\">\n",
       "      <th></th>\n",
       "      <th>word</th>\n",
       "      <th>frequency</th>\n",
       "      <th>P(w)</th>\n",
       "      <th>rank</th>\n",
       "      <th>P(x|w)</th>\n",
       "    </tr>\n",
       "  </thead>\n",
       "  <tbody>\n",
       "    <tr>\n",
       "      <th>0</th>\n",
       "      <td>bitter</td>\n",
       "      <td>16976</td>\n",
       "      <td>0.000017</td>\n",
       "      <td>3</td>\n",
       "      <td>0.008083</td>\n",
       "    </tr>\n",
       "    <tr>\n",
       "      <th>1</th>\n",
       "      <td>better</td>\n",
       "      <td>495426</td>\n",
       "      <td>0.000495</td>\n",
       "      <td>1</td>\n",
       "      <td>0.001941</td>\n",
       "    </tr>\n",
       "    <tr>\n",
       "      <th>2</th>\n",
       "      <td>otter</td>\n",
       "      <td>1388</td>\n",
       "      <td>0.000001</td>\n",
       "      <td>5</td>\n",
       "      <td>0.000003</td>\n",
       "    </tr>\n",
       "    <tr>\n",
       "      <th>3</th>\n",
       "      <td>batter</td>\n",
       "      <td>5932</td>\n",
       "      <td>0.000006</td>\n",
       "      <td>4</td>\n",
       "      <td>0.000702</td>\n",
       "    </tr>\n",
       "    <tr>\n",
       "      <th>4</th>\n",
       "      <td>butter</td>\n",
       "      <td>28812</td>\n",
       "      <td>0.000029</td>\n",
       "      <td>2</td>\n",
       "      <td>0.002545</td>\n",
       "    </tr>\n",
       "  </tbody>\n",
       "</table>\n",
       "</div>"
      ],
      "text/plain": [
       "     word  frequency      P(w)  rank    P(x|w)\n",
       "0  bitter      16976  0.000017     3  0.008083\n",
       "1  better     495426  0.000495     1  0.001941\n",
       "2   otter       1388  0.000001     5  0.000003\n",
       "3  batter       5932  0.000006     4  0.000702\n",
       "4  butter      28812  0.000029     2  0.002545"
      ]
     },
     "execution_count": 57,
     "metadata": {},
     "output_type": "execute_result"
    }
   ],
   "source": [
    "COCA['P(x|w)'] = [\n",
    "    (norvig.loc['b|bi'].values / freq_df.loc['bi'].values)[0],  # Bitter\n",
    "    (norvig.loc['b|be'].values / freq_df.loc['be'].values)[0],  # Better\n",
    "    (norvig.loc['b|o'].values / freq_df.loc['o'].values)[0],  # Butler\n",
    "    (norvig.loc['b|ba'].values / freq_df.loc['ba'].values)[0],  # Batter\n",
    "    (norvig.loc['b|bu'].values / freq_df.loc['bu'].values)[0]  # Butter\n",
    "]\n",
    "COCA"
   ]
  },
  {
   "cell_type": "code",
   "execution_count": 58,
   "metadata": {},
   "outputs": [
    {
     "data": {
      "text/html": [
       "<div>\n",
       "<style scoped>\n",
       "    .dataframe tbody tr th:only-of-type {\n",
       "        vertical-align: middle;\n",
       "    }\n",
       "\n",
       "    .dataframe tbody tr th {\n",
       "        vertical-align: top;\n",
       "    }\n",
       "\n",
       "    .dataframe thead th {\n",
       "        text-align: right;\n",
       "    }\n",
       "</style>\n",
       "<table border=\"1\" class=\"dataframe\">\n",
       "  <thead>\n",
       "    <tr style=\"text-align: right;\">\n",
       "      <th></th>\n",
       "      <th>word</th>\n",
       "      <th>frequency</th>\n",
       "      <th>P(w)</th>\n",
       "      <th>rank</th>\n",
       "      <th>P(x|w)</th>\n",
       "      <th>109 P(x|w)P(w)</th>\n",
       "    </tr>\n",
       "  </thead>\n",
       "  <tbody>\n",
       "    <tr>\n",
       "      <th>0</th>\n",
       "      <td>bitter</td>\n",
       "      <td>16976</td>\n",
       "      <td>0.000017</td>\n",
       "      <td>3</td>\n",
       "      <td>0.008083</td>\n",
       "      <td>136.998703</td>\n",
       "    </tr>\n",
       "    <tr>\n",
       "      <th>1</th>\n",
       "      <td>better</td>\n",
       "      <td>495426</td>\n",
       "      <td>0.000495</td>\n",
       "      <td>1</td>\n",
       "      <td>0.001941</td>\n",
       "      <td>959.936664</td>\n",
       "    </tr>\n",
       "    <tr>\n",
       "      <th>2</th>\n",
       "      <td>otter</td>\n",
       "      <td>1388</td>\n",
       "      <td>0.000001</td>\n",
       "      <td>5</td>\n",
       "      <td>0.000003</td>\n",
       "      <td>0.003584</td>\n",
       "    </tr>\n",
       "    <tr>\n",
       "      <th>3</th>\n",
       "      <td>batter</td>\n",
       "      <td>5932</td>\n",
       "      <td>0.000006</td>\n",
       "      <td>4</td>\n",
       "      <td>0.000702</td>\n",
       "      <td>4.159030</td>\n",
       "    </tr>\n",
       "    <tr>\n",
       "      <th>4</th>\n",
       "      <td>butter</td>\n",
       "      <td>28812</td>\n",
       "      <td>0.000029</td>\n",
       "      <td>2</td>\n",
       "      <td>0.002545</td>\n",
       "      <td>73.220471</td>\n",
       "    </tr>\n",
       "  </tbody>\n",
       "</table>\n",
       "</div>"
      ],
      "text/plain": [
       "     word  frequency      P(w)  rank    P(x|w)  109 P(x|w)P(w)\n",
       "0  bitter      16976  0.000017     3  0.008083      136.998703\n",
       "1  better     495426  0.000495     1  0.001941      959.936664\n",
       "2   otter       1388  0.000001     5  0.000003        0.003584\n",
       "3  batter       5932  0.000006     4  0.000702        4.159030\n",
       "4  butter      28812  0.000029     2  0.002545       73.220471"
      ]
     },
     "execution_count": 58,
     "metadata": {},
     "output_type": "execute_result"
    }
   ],
   "source": [
    "COCA['109 P(x|w)P(w)'] = 1e9 * COCA['P(w)'] * COCA['P(x|w)']\n",
    "COCA"
   ]
  }
 ],
 "metadata": {
  "kernelspec": {
   "display_name": "SE-266",
   "language": "python",
   "name": "python3"
  },
  "language_info": {
   "codemirror_mode": {
    "name": "ipython",
    "version": 3
   },
   "file_extension": ".py",
   "mimetype": "text/x-python",
   "name": "python",
   "nbconvert_exporter": "python",
   "pygments_lexer": "ipython3",
   "version": "3.11.5"
  }
 },
 "nbformat": 4,
 "nbformat_minor": 2
}
