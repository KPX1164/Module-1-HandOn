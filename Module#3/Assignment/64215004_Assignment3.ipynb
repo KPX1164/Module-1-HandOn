{
 "cells": [
  {
   "cell_type": "code",
   "execution_count": 79,
   "metadata": {},
   "outputs": [],
   "source": [
    "import pandas as pd\n",
    "import numpy as np\n",
    "from nltk import word_tokenize\n",
    "from nltk.corpus import stopwords\n",
    "from sklearn.feature_extraction.text import TfidfVectorizer\n",
    "from rank_bm25 import BM25Okapi\n",
    "import string\n",
    "import argparse"
   ]
  },
  {
   "cell_type": "code",
   "execution_count": 80,
   "metadata": {},
   "outputs": [],
   "source": [
    "def preprocess_text(text):\n",
    "    stop_words = set(stopwords.words('english'))\n",
    "    tokens = word_tokenize(text.lower())\n",
    "    tokens = [token for token in tokens if token.isalnum() and token not in stop_words and token not in string.punctuation]\n",
    "    return ' '.join(tokens)\n",
    "\n",
    "def preprocess_bigrams(text):\n",
    "    stop_words = set(stopwords.words('english'))\n",
    "    tokens = word_tokenize(text.lower())\n",
    "    tokens = [token for token in tokens if token.isalnum() and token not in stop_words and token not in string.punctuation]\n",
    "    bigrams = [f\"{tokens[i]} {tokens[i + 1]}\" for i in range(len(tokens) - 1)]\n",
    "    return ' '.join(bigrams)\n",
    "\n",
    "def tfidf_search(keyword, descriptions):\n",
    "    vectorizer = TfidfVectorizer(preprocessor=preprocess_bigrams)\n",
    "    tfidf_matrix = vectorizer.fit_transform(descriptions)\n",
    "    keyword_vector = vectorizer.transform([preprocess_bigrams(keyword)])\n",
    "\n",
    "    scores = np.dot(tfidf_matrix, keyword_vector.T).toarray().flatten()\n",
    "    sorted_indices = np.argsort(scores)[::-1]\n",
    "\n",
    "    results = []\n",
    "    for idx in sorted_indices[:5]:\n",
    "        if scores[idx] > 0:\n",
    "            results.append((scores[idx], descriptions.iloc[idx].strip()))\n",
    "\n",
    "    return results\n",
    "\n",
    "def bm25_search(keyword, descriptions):\n",
    "    tokenized_descriptions = [word_tokenize(desc.lower()) for desc in descriptions]\n",
    "    bm25 = BM25Okapi(tokenized_descriptions)\n",
    "    scores = bm25.get_scores(word_tokenize(keyword.lower()))\n",
    "\n",
    "    sorted_indices = np.argsort(scores)[::-1]\n",
    "\n",
    "    results = []\n",
    "    for idx in sorted_indices[:5]:\n",
    "        if scores[idx] > 0:\n",
    "            results.append((scores[idx], descriptions.iloc[idx].strip()))\n",
    "\n",
    "    return results\n",
    "\n",
    "def get_and_clean_data(file_path):\n",
    "    data = pd.read_csv(file_path)\n",
    "    description = data['job_description']\n",
    "    cleaned_description = description.apply(lambda s: s.translate(str.maketrans('', '', string.punctuation + u'\\xa0')))\n",
    "    cleaned_description = cleaned_description.apply(lambda s: s.lower())\n",
    "    cleaned_description = cleaned_description.apply(lambda s: s.translate(str.maketrans(string.whitespace, ' ' * len(string.whitespace), '')))\n",
    "    cleaned_description = cleaned_description.drop_duplicates()\n",
    "    return cleaned_description\n",
    "\n",
    "   \n",
    "\n",
    "def search_and_display_results(keyword, data_file_path):\n",
    "    cleaned_description = get_and_clean_data(data_file_path)\n",
    "    \n",
    "    # TF-IDF Search\n",
    "    tfidf_results = tfidf_search(keyword, cleaned_description)\n",
    "    print(\"\\nTop 5 matching jobs (TF-IDF):\", keyword)\n",
    "    for score, result in tfidf_results:\n",
    "        print(f\"Score: {score:.4f}, {result}\")\n",
    "\n",
    "    # BM25 Search\n",
    "    bm25_results = bm25_search(keyword, cleaned_description)\n",
    "    print(\"\\nTop 5 matching jobs (BM25):\", keyword)\n",
    "    for score, result in bm25_results:\n",
    "        print(f\"Score: {score:.4f}, {result}\")"
   ]
  },
  {
   "cell_type": "markdown",
   "metadata": {},
   "source": [
    "`BM25` is a ranking model used by search engines to provide accurate and relevant search results. \n",
    "\n",
    "It scores documents based on their `term frequencies and document lengths`, while also considering the importance of a `term in the entire corpus and the impact of document length on relevance scoring`.\n",
    "\n",
    "`BM25` includes a term saturation function to mitigate the impact of excessively high term frequencies. This makes it particularly effective in certain contexts, such as when dealing with large amounts of data or complex queries."
   ]
  },
  {
   "cell_type": "code",
   "execution_count": 81,
   "metadata": {},
   "outputs": [
    {
     "name": "stdout",
     "output_type": "stream",
     "text": [
      "\n",
      "Top 5 matching jobs (TF-IDF): python developer\n",
      "Score: 0.3125, software development experience in any of the programming languages java or net or c or python etc  python scripting experience   languages  proficiency with python scripting language  experience with and use of linuxunix scripting languages shell script korn bash etc  development environments   system integration  working knowledge and development experience in a linux environment redhat or centos\n",
      "Score: 0.2531, reference    1900306  title   python developer software developer    location   burbank ca    experience level     start date   01032019      description      basic qualifications  qualifications  minimum 4 years of experience in python  proficient in django python and nodejs  postgresql  consuming restful apis  celery or other task queues  gitlab test runner or related testing automation   preferred qualifications  preferred qualifications  prior experience as technical project manager is a plus  data sciencemachine learning experience is a plus  please provide link to public repos  github for reference  required education babs degree or equivalent experience   additional information  looking for python developer to help with some work with 21st century fox acquisition looking for a high midtier developer who has python django experience platform to build web applications and some testing experience doesnt have to be full on sdet type experience but someone who is used to testing their code and can assist in building it out in gitlab test runner the database is postrgre sql they dont have to be crazy db level but will need to know how to work with it and update it in addition puppeteer is the tool they are using to extend nodejs so they will have to understand how to maintain it essentially they are maintaining what we have already built       job summary                                                                               location                               burbank ca                                                                                                                       posted                           30 days ago                                                                                                                       reference code                           1900306\n",
      "Score: 0.2325, lead software developer python  django exciting opportunity for a lead software developer to join a fastmoving and high growth saas company in norcross our client has an immediate need for lead software developers with solid python and object oriented development experience to join their highly collaborative team to assist with the delivery of their saas suite of products this top innovative technology company is on pace to double in size this year and need motivated and determined software engineering professionals to reach their goals this is a lead role where you will be 90 handson working closely with the product team to ensure the design and delivery of new product features and functionalities you must be able to and comfortable with testing your own code in order to be successful in this role you must be selfmotivated with the ability to work effectively and efficiently in a fastpaced and high growth startup environment 80 backend working with python and other object oriented development 20 frontend working with javascript  html  css enjoy this directhire position in norcross that offers flexible work hours telecommute after ramp up casual dress all day every day 3 weeks pto 401k with match with a sharp and energetic team under great leadership will provide relocation assistance job requirements 7 years professional object oriented programming and design with two or more languages python java c etc 1 years recent python development experience 1 years experience in a team lead or handson management role handson experience with django serverside web framework sql html  css  javascript excellent communication skills and team player  looking for a go getter with great energy preferred skills bachelors degree in computer science postgresql highly preferred commercial software development experience experience working in a saas startup environment must be authorized to work in the us  sponsorship not provided\n",
      "Score: 0.2320, purpose  liaison a glassdoor’s best places to work offers the following  a place to work with fun smart collaborative and driven people liaison is unique in that we are an established and profitable company but have that fastpaced energy and feel of a startup our saas based admissions management software and services helps millions of students take the next step in their academic career and is utilized by over 5000 academic programs  purpose  as a member of the team the javascript or python software engineer is responsible for creating highlyscalable pythonphp web applications and services  accountabilities  work with team to createmaintain python components and services that will integrate with existing applications  work with management to provide for python related programming tasks  develop with javascript and htmlcss for modern web applications  identify additional tasks and assisting other developers in completing tasks  assist in quality assurance process such as writing unit tests and participating in code reviews  develop microservices and performant worker processes for the application  develop sql queries for the application that targets high performance  work in a clientfacing application development environment with minimal supervision on implementation tasks  position requirements  bachelors degree in computer science management information systems or an it related discipline or its equivalent plus 1 year of development experience with javascript of python building high volume publicfacing modern web applications  ability to work independently or in a team environment on multiple projects  experience with scripting languages such as python ruby php  experience in sql scripting relational databases  unit testing of applications  experience in working with software specifications and documentation  excellent analytical debugging planning and organizational skills  detailoriented and comfortable working with developers business analysts and other project stakeholders  familiarity with aws elasticsearch elasticcache iam…\n",
      "Score: 0.1969, a fulltime position at a financial technology company that develops software for financial structured products that runs on bloomberg terminals pay options ft employee  contact jason vu  call 6468769536  2126164800 ext290 or email jasonsanscom with the job code jv33082 or click the apply now button   location wall street skills required for the position python java  c sql unix database programming optional not required financial product knowledge detailed info to do software development for a financial technology software company that provides data and analytics and portfolio products for credit and structuring traders they create tools for structured products for the buy side and the sell side clos and structured products for trading portfolios they provide data feeds and apis to manage the portfolio of this product also do middle office software for reporting and pl  the product does front to middle office they also provide apis for developers in the buy side or sell side firms candidates work in multiple projects at the same time this company provides best in class software as a service developmentcomputing environment python is first choice but also c and java people whove done a lot of programming in a lab at school or on the job in any kind of firm does not have to be a financial firm can be a tech start up must have  computer science undergrad  bs must have had an intensive background in programming either in school or at work employment in school have done work in a computer lab they are language agonistic but their primary language is python  must understand how to avoide python memory leakage  must understand garbage collection  must understand how python variables are saved in memory  understand how to design an efficient parser skills required for the position python java c is optional the position offers competitive compensation package\n",
      "\n",
      "Top 5 matching jobs (BM25): python developer\n",
      "Score: 7.1233, reference    1900306  title   python developer software developer    location   burbank ca    experience level     start date   01032019      description      basic qualifications  qualifications  minimum 4 years of experience in python  proficient in django python and nodejs  postgresql  consuming restful apis  celery or other task queues  gitlab test runner or related testing automation   preferred qualifications  preferred qualifications  prior experience as technical project manager is a plus  data sciencemachine learning experience is a plus  please provide link to public repos  github for reference  required education babs degree or equivalent experience   additional information  looking for python developer to help with some work with 21st century fox acquisition looking for a high midtier developer who has python django experience platform to build web applications and some testing experience doesnt have to be full on sdet type experience but someone who is used to testing their code and can assist in building it out in gitlab test runner the database is postrgre sql they dont have to be crazy db level but will need to know how to work with it and update it in addition puppeteer is the tool they are using to extend nodejs so they will have to understand how to maintain it essentially they are maintaining what we have already built       job summary                                                                               location                               burbank ca                                                                                                                       posted                           30 days ago                                                                                                                       reference code                           1900306\n",
      "Score: 6.9097, read what people are saying about working here   company description  crown equipment corporation is a leading innovator in worldclass forklift and material handling equipment and technology crown brings the benefits of technology to material handling by connecting lift trucks operators and facilities and collecting accurate realtime information for better decisionmaking  job responsibilities  software developer is a critical role in the development of infolink crown’s global fleet management software solution crown’s awardwinning infolink is a saas solution built on amazon’s aws platform using leading technologies such as kubernetes docker containers python java spring cloud framework and angular  the software developer analyzes and evaluates existing or proposed systems and develops computer applications systems and related procedures the software developer also prepares program specifications codes tests and debugs computer applications join a full stack development team practicing agile development methodologies with devops support  learn more about crown infolink® fleet management  internal title insite applications developer  related terms  agile app dev application developer applications programmer backend developer cloud developer devops front end developer full stack java j2ee object oriented programming python saas development software engineer web application developer web developer  minimum qualifications  bachelor degree preferably in computer science software engineering information systems or related field or 4 years systems programming experience salary will be commensurate with applicable experience  good written verbal analytical and interpersonal skills  valid driver license and good driving record  ability to occasionally travel with overnight stays  preferred qualifications  javaj2ee programming and analysis experience  angular framework experience  work authorization  crown will only employ those who are legally authorized to work in the united states this is not a position for which sponsorship will be provided individuals with temporary visas or who need sponsorship for work authorization now or in the future are not eligible for hire  no agency calls please  compensation and benefits  crown offers an excellent wage and benefits package for fulltime employees including healthdentalvisionprescription drug plan flexible benefits plan 401k retirement savings plan life and disability benefits paid holidays paid vacation tuition reimbursement and much more  eoaa employer minoritiesfemalesprotected veteransdisabled  crown     company description  crown equipment corporation is a leading innovator in worldclass forklift and material handling equipment and technology crown brings the benefits of technology to material handling by connecting lift trucks operators and facilities and collecting accurate realtime information for better decisionmaking  job responsibilities  software developer is a critical role in the development of infolink crown’s global fleet management software solution crown’s awardwinning infolink is a saas solution built on amazon’s aws platform using leading technologies such as kubernetes docker containers python java spring cloud framework and angular  the software developer analyzes and evaluates existing or proposed systems and develops computer applications systems and related procedures the software developer also prepares program specifications codes tests and debugs computer applications join a full stack development team practicing agile development methodologies with devops support  learn more about crown infolink® fleet management  internal title insite applications developer  related terms  agile app dev application developer applications programmer backend developer cloud developer devops front end developer full stack java j2ee object oriented programming python saas development software engineer web application developer web developer  minimum qualifications  bachelor degree preferably in computer science software engineering information systems or related field or 4 years systems programming experience salary will be commensurate with applicable experience  good written verbal analytical and interpersonal skills  valid driver license and good driving record  ability to occasionally travel with overnight stays  preferred qualifications  javaj2ee programming and analysis experience  angular framework experience  work authorization  crown will only employ those who are legally authorized to work in the united states this is not a position for which sponsorship will be provided individuals with temporary visas or who need sponsorship for work authorization now or in the future are not eligible for hire  no agency calls please  compensation and benefits  crown offers an excellent wage and benefits package for fulltime employees including healthdentalvisionprescription drug plan flexible benefits plan 401k retirement savings plan life and disability benefits paid holidays paid vacation tuition reimbursement and much more  eoaa employer minoritiesfemalesprotected veteransdisabled  crown\n",
      "Score: 6.8937, company description  crown equipment corporation is a leading innovator in worldclass forklift and material handling equipment and technology crown brings the benefits of technology to material handling by connecting lift trucks operators and facilities and collecting accurate realtime information for better decisionmaking  job responsibilities  software developer is a critical role in the development of infolink crown’s global fleet management software solution crown’s awardwinning infolink is a saas solution built on amazon’s aws platform using leading technologies such as kubernetes docker containers python java spring cloud framework and angular  the software developer analyzes and evaluates existing or proposed systems and develops computer applications systems and related procedures the software developer also prepares program specifications codes tests and debugs computer applications join a full stack development team practicing agile development methodologies with devops support  learn more about crown infolink® fleet management  internal title insite applications developer  related terms  agile app dev application developer applications programmer backend developer cloud developer devops front end developer full stack java j2ee object oriented programming python saas development software engineer web application developer web developer  minimum qualifications  bachelor degree preferably in computer science software engineering information systems or related field or 4 years systems programming experience salary will be commensurate with applicable experience  good written verbal analytical and interpersonal skills  valid driver license and good driving record  ability to occasionally travel with overnight stays  preferred qualifications  javaj2ee programming and analysis experience  angular framework experience  work authorization  crown will only employ those who are legally authorized to work in the united states this is not a position for which sponsorship will be provided individuals with temporary visas or who need sponsorship for work authorization now or in the future are not eligible for hire  no agency calls please  compensation and benefits  crown offers an excellent wage and benefits package for fulltime employees including healthdentalvisionprescription drug plan flexible benefits plan 401k retirement savings plan life and disability benefits paid holidays paid vacation tuition reimbursement and much more  eoaa employer minoritiesfemalesprotected veteransdisabled  crown  company description  crown equipment corporation is a leading innovator in worldclass forklift and material handling equipment and technology crown brings the benefits of technology to material handling by connecting lift trucks operators and facilities and collecting accurate realtime information for better decisionmaking  job responsibilities  software developer is a critical role in the development of infolink crown’s global fleet management software solution crown’s awardwinning infolink is a saas solution built on amazon’s aws platform using leading technologies such as kubernetes docker containers python java spring cloud framework and angular  the software developer analyzes and evaluates existing or proposed systems and develops computer applications systems and related procedures the software developer also prepares program specifications codes tests and debugs computer applications join a full stack development team practicing agile development methodologies with devops support  learn more about crown infolink® fleet management  internal title insite applications developer  related terms  agile app dev application developer applications programmer backend developer cloud developer devops front end developer full stack java j2ee object oriented programming python saas development software engineer web application developer web developer  minimum qualifications  bachelor degree preferably in computer science software engineering information systems or related field or 4 years systems programming experience salary will be commensurate with applicable experience  good written verbal analytical and interpersonal skills  valid driver license and good driving record  ability to occasionally travel with overnight stays  preferred qualifications  javaj2ee programming and analysis experience  angular framework experience  work authorization  crown will only employ those who are legally authorized to work in the united states this is not a position for which sponsorship will be provided individuals with temporary visas or who need sponsorship for work authorization now or in the future are not eligible for hire  no agency calls please  compensation and benefits  crown offers an excellent wage and benefits package for fulltime employees including healthdentalvisionprescription drug plan flexible benefits plan 401k retirement savings plan life and disability benefits paid holidays paid vacation tuition reimbursement and much more  eoaa employer minoritiesfemalesprotected veteransdisabled  crown crown is a full service ebusiness firm enabling clients to attract convert retain and activate customers digitally driving commerce c\n",
      "Score: 6.7168, a python software developer job in iselin new jersey is currently available through belcan to be considered for this role you will have a bachelors degree in computer science or related field with at least four years of experience in the industry with a demonstrated ability to produce results on a timeline in this role you will develop stateofthe art web frontends as well as standalone gui applications with welldocumented integrationtested code using sql and nosql databases to structure laboratory datapython software developer job duties� develop python web applications and create sql and nosql databases for laboratory data new functionality must maintain a streamlined user experience � participate in architectural decisions related to the python web application and standalone applications � expand the test coverage for newly developed functionalities � refactor the application where necessary and aid in backend data processing pipelines where neededpython software developer qualifications� bachelor degree in computer science or related field with at least 4 years of industry experience and extensive experience in software design development and testing integrations program installations and system implementations � testdriven python programming experience and demonstrated ability to produce results on a timeline with ability to communicate clearly across different disciplines since you will work directly with software users and within a small tightknit and dynamic development team � familiarity with the scipy software ecosystem eg numpy scipy pandas statsmodel scipy data visualization libraries eg matplotlib seaborn bokeh holoviews and with the apache hadoop ecosystem is a plus� working knowledge of an orm eg sqlalchemy specific knowledge of flask pyramids and tornado is a plus with web framework experienceif you are interested in this python software developer job opportunity in iselin new jersey please apply via the link provided belcan is a global supplier of engineering technical recruiting and it services to customers in the aerospace industrial and government sectors belcan engineers better outcomes through adaptive and integrated services from jet engines airframe and avionics to heavy vehicles chemical processing and cybersecurity belcan takes a partnering approach to provide customerdriven solutions that are flexible scaleable and costeffective our unique capabilities have led to continuous growth and success for nearly 60 years we are a teamdriven equal opportunity employer committed to workforce diversity\n",
      "Score: 6.6888, company description  crown equipment corporation is a leading innovator in worldclass forklift and material handling equipment and technology crown brings the benefits of technology to material handling by connecting lift trucks operators and facilities and collecting accurate realtime information for better decisionmaking  job responsibilities  software developer is a critical role in the development of infolink crown’s global fleet management software solution crown’s awardwinning infolink is a saas solution built on amazon’s aws platform using leading technologies such as kubernetes docker containers python java spring cloud framework and angular  the software developer analyzes and evaluates existing or proposed systems and develops computer applications systems and related procedures the software developer also prepares program specifications codes tests and debugs computer applications join a full stack development team practicing agile development methodologies with devops support  learn more about crown infolink® fleet management  internal title insite applications developer  related terms  agile app dev application developer applications programmer backend developer cloud developer devops front end developer full stack java j2ee object oriented programming python saas development software engineer web application developer web developer  minimum qualifications  bachelor degree preferably in computer science software engineering information systems or related field or 4 years systems programming experience salary will be commensurate with applicable experience  good written verbal analytical and interpersonal skills  valid driver license and good driving record  ability to occasionally travel with overnight stays  preferred qualifications  javaj2ee programming and analysis experience  angular framework experience  work authorization  crown will only employ those who are legally authorized to work in the united states this is not a position for which sponsorship will be provided individuals with temporary visas or who need sponsorship for work authorization now or in the future are not eligible for hire  no agency calls please  compensation and benefits  crown offers an excellent wage and benefits package for fulltime employees including healthdentalvisionprescription drug plan flexible benefits plan 401k retirement savings plan life and disability benefits paid holidays paid vacation tuition reimbursement and much more  eoaa employer minoritiesfemalesprotected veteransdisabled  crown\n"
     ]
    }
   ],
   "source": [
    "keyword = input(\"Enter the keyword to search: \")\n",
    "data_file_path = \"../Resource/software_developer_united_states_1971_20191023_1.csv\"\n",
    "search_and_display_results(keyword, data_file_path)"
   ]
  }
 ],
 "metadata": {
  "kernelspec": {
   "display_name": "SE-266",
   "language": "python",
   "name": "python3"
  },
  "language_info": {
   "codemirror_mode": {
    "name": "ipython",
    "version": 3
   },
   "file_extension": ".py",
   "mimetype": "text/x-python",
   "name": "python",
   "nbconvert_exporter": "python",
   "pygments_lexer": "ipython3",
   "version": "3.11.5"
  }
 },
 "nbformat": 4,
 "nbformat_minor": 2
}
